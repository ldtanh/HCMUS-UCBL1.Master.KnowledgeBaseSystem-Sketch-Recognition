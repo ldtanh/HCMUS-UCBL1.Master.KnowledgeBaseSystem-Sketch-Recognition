{
 "cells": [
  {
   "cell_type": "code",
   "execution_count": 21,
   "id": "binding-program",
   "metadata": {
    "scrolled": true
   },
   "outputs": [
    {
     "data": {
      "text/html": [
       "\n",
       "<style>\n",
       "    div#notebook-container    { width: 95%; }\n",
       "    div#menubar-container     { width: 65%; }\n",
       "    div#maintoolbar-container { width: 99%; }\n",
       "</style>\n"
      ],
      "text/plain": [
       "<IPython.core.display.HTML object>"
      ]
     },
     "metadata": {},
     "output_type": "display_data"
    }
   ],
   "source": [
    "from IPython.display import display, HTML\n",
    "display(HTML(data=\"\"\"\n",
    "<style>\n",
    "    div#notebook-container    { width: 95%; }\n",
    "    div#menubar-container     { width: 65%; }\n",
    "    div#maintoolbar-container { width: 99%; }\n",
    "</style>\n",
    "\"\"\"));\n",
    "\n",
    "\n",
    "import pandas as pd\n",
    "\n",
    "pd.set_option('display.max_columns', None)  \n",
    "pd.set_option('display.max_rows', None)  \n",
    "pd.set_option('display.width', 1000)"
   ]
  },
  {
   "cell_type": "markdown",
   "id": "generous-tobago",
   "metadata": {},
   "source": [
    "# Define"
   ]
  },
  {
   "cell_type": "code",
   "execution_count": 2,
   "id": "growing-uncle",
   "metadata": {},
   "outputs": [],
   "source": [
    "train_img_type = 'data_0_rotate'\n",
    "train_dataset_path = f'{train_img_type}'\n",
    "test_dataset_path = 'data'"
   ]
  },
  {
   "cell_type": "code",
   "execution_count": 3,
   "id": "interstate-ferry",
   "metadata": {},
   "outputs": [],
   "source": [
    "import os\n",
    "from collections import Counter\n",
    "\n",
    "import numpy as np\n",
    "import cv2\n",
    "\n",
    "from matplotlib import pyplot as plt\n",
    "\n",
    "from tqdm import tqdm\n",
    "\n",
    "from sklearn.model_selection import train_test_split\n",
    "from sklearn import svm\n",
    "\n",
    "from pycm import *"
   ]
  },
  {
   "cell_type": "markdown",
   "id": "developed-guess",
   "metadata": {},
   "source": [
    "# config"
   ]
  },
  {
   "cell_type": "code",
   "execution_count": 4,
   "id": "induced-founder",
   "metadata": {},
   "outputs": [],
   "source": [
    "normal_read = False\n",
    "standard_scale = False\n",
    "kernel = 'linear'\n",
    "n_components = 60\n",
    "normalize = False\n",
    "ksize = 31"
   ]
  },
  {
   "cell_type": "markdown",
   "id": "accessible-movement",
   "metadata": {},
   "source": [
    "# Read data demo"
   ]
  },
  {
   "cell_type": "code",
   "execution_count": 5,
   "id": "absent-block",
   "metadata": {},
   "outputs": [],
   "source": [
    "list_category = sorted(os.listdir(test_dataset_path))"
   ]
  },
  {
   "cell_type": "code",
   "execution_count": 6,
   "id": "social-adolescent",
   "metadata": {
    "scrolled": true
   },
   "outputs": [],
   "source": [
    "def read_img(path):\n",
    "    if normal_read:\n",
    "        img = np.array(cv2.imread(path))\n",
    "\n",
    "\n",
    "        cond1 = np.logical_and((img[:,:,0]==255), (img[:,:,1]==255))\n",
    "        cond2 = np.logical_and(cond1, (img[:,:,2]==255))\n",
    "\n",
    "        target = np.zeros((img.shape[0], img.shape[1]))\n",
    "        target[:,:] = np.where(cond2, 0, 1)\n",
    "        \n",
    "        return target\n",
    "    else:\n",
    "        img = cv2.imread(path)\n",
    "        scale = 1\n",
    "        delta = 0\n",
    "        ddepth = cv2.CV_16S\n",
    "        grad_x = cv2.Sobel(img, ddepth, 1, 0, ksize=ksize, scale=scale, delta=delta, borderType=cv2.BORDER_DEFAULT)\n",
    "        grad_y = cv2.Sobel(img, ddepth, 0, 1, ksize=ksize, scale=scale, delta=delta, borderType=cv2.BORDER_DEFAULT)\n",
    "\n",
    "        rs = np.zeros((img.shape[0], img.shape[1], 2))\n",
    "        rs[:,:,0] = np.amax(grad_x,2)\n",
    "        rs[:,:,1] = np.amax(grad_y,2)\n",
    "        return np.amax(rs, 2)"
   ]
  },
  {
   "cell_type": "markdown",
   "id": "original-program",
   "metadata": {},
   "source": [
    "# Now split data by (category & id) for faster looping"
   ]
  },
  {
   "cell_type": "code",
   "execution_count": 7,
   "id": "environmental-clerk",
   "metadata": {},
   "outputs": [],
   "source": [
    "train_list = []\n",
    "val_list = []\n",
    "\n",
    "train_ratio = 0.7\n",
    "\n",
    "for cat in list_category:\n",
    "    list_file_by_cat = os.listdir(os.path.join(test_dataset_path, cat))\n",
    "    train_length = int(len(list_file_by_cat) * train_ratio)\n",
    "    \n",
    "    for fn in list_file_by_cat[:train_length]:\n",
    "        train_list.append((cat, fn.replace('.png', '')))\n",
    "        \n",
    "    for fn in list_file_by_cat[train_length:]:\n",
    "        val_list.append((cat, fn.replace('.png', '')))"
   ]
  },
  {
   "cell_type": "markdown",
   "id": "single-warehouse",
   "metadata": {},
   "source": [
    "Now reading data to train/test set"
   ]
  },
  {
   "cell_type": "code",
   "execution_count": 8,
   "id": "under-theta",
   "metadata": {},
   "outputs": [],
   "source": [
    "from sklearn.preprocessing import StandardScaler\n",
    "def flatten_data(img):\n",
    "    if standard_scale:\n",
    "        scaler = StandardScaler()\n",
    "        img = scaler.fit_transform(img)\n",
    "    return [item for sublist in img for item in sublist]"
   ]
  },
  {
   "cell_type": "code",
   "execution_count": null,
   "id": "accessory-double",
   "metadata": {},
   "outputs": [],
   "source": []
  },
  {
   "cell_type": "code",
   "execution_count": 9,
   "id": "adverse-cream",
   "metadata": {},
   "outputs": [],
   "source": [
    "category_mapping = {}\n",
    "\n",
    "for i in range(len(list_category)):\n",
    "    category_mapping[list_category[i]] = i"
   ]
  },
  {
   "cell_type": "code",
   "execution_count": 10,
   "id": "mechanical-horror",
   "metadata": {},
   "outputs": [
    {
     "name": "stderr",
     "output_type": "stream",
     "text": [
      "100%|██████████| 14000/14000 [06:26<00:00, 36.24it/s] \n"
     ]
    }
   ],
   "source": [
    "train_x = []\n",
    "train_y = []\n",
    "\n",
    "for cat, fn in tqdm(train_list):\n",
    "    fn_dir = os.path.join(train_dataset_path, cat, fn)\n",
    "    for file in os.listdir(fn_dir):\n",
    "        train_x.append(flatten_data(read_img(os.path.join(fn_dir, file))))\n",
    "        train_y.append(category_mapping[cat])"
   ]
  },
  {
   "cell_type": "code",
   "execution_count": 11,
   "id": "close-reasoning",
   "metadata": {},
   "outputs": [
    {
     "name": "stderr",
     "output_type": "stream",
     "text": [
      "100%|██████████| 6000/6000 [02:43<00:00, 36.62it/s]\n"
     ]
    }
   ],
   "source": [
    "val_x = []\n",
    "val_y = []\n",
    "\n",
    "for cat, fn in tqdm(val_list):\n",
    "    val_x.append(flatten_data(read_img(os.path.join(test_dataset_path, cat, f'{fn}.png'))))\n",
    "    val_y.append(category_mapping[cat])"
   ]
  },
  {
   "cell_type": "markdown",
   "id": "eastern-document",
   "metadata": {},
   "source": [
    "# Train & Report"
   ]
  },
  {
   "cell_type": "code",
   "execution_count": 12,
   "id": "attended-basketball",
   "metadata": {},
   "outputs": [],
   "source": [
    "import snapml"
   ]
  },
  {
   "cell_type": "code",
   "execution_count": 13,
   "id": "emerging-dinner",
   "metadata": {},
   "outputs": [],
   "source": [
    "model = snapml.SupportVectorMachine(\n",
    "    kernel=kernel,\n",
    "    n_jobs=30,\n",
    "    n_components=n_components,\n",
    "    normalize=normalize,\n",
    "    verbose=True,\n",
    ")"
   ]
  },
  {
   "cell_type": "code",
   "execution_count": 14,
   "id": "crude-maryland",
   "metadata": {},
   "outputs": [
    {
     "name": "stdout",
     "output_type": "stream",
     "text": [
      "[Info] Training will run in multi-threaded mode on CPU.\n"
     ]
    },
    {
     "data": {
      "text/plain": [
       "SupportVectorMachine(device_ids=array([], dtype=uint32), n_components=60,\n",
       "                     n_jobs=30, verbose=True)"
      ]
     },
     "execution_count": 14,
     "metadata": {},
     "output_type": "execute_result"
    }
   ],
   "source": [
    "model.fit(np.array(train_x), train_y)"
   ]
  },
  {
   "cell_type": "code",
   "execution_count": 15,
   "id": "tough-entrance",
   "metadata": {},
   "outputs": [],
   "source": [
    "top_1 = 0\n",
    "top_3 = 0\n",
    "top_10 = 0"
   ]
  },
  {
   "cell_type": "code",
   "execution_count": 16,
   "id": "sonic-divorce",
   "metadata": {},
   "outputs": [
    {
     "name": "stderr",
     "output_type": "stream",
     "text": [
      "100%|██████████| 6000/6000 [18:59<00:00,  5.27it/s]  \n"
     ]
    }
   ],
   "source": [
    "i = 0\n",
    "for i in tqdm(range(len(val_x))):\n",
    "    x = np.array(val_x[i:i+1])\n",
    "    rs = model.decision_function(x, n_jobs=10)[0]\n",
    "    top_rs = rs.argsort()[-10:][::-1]\n",
    "    if val_y[i] == top_rs[0]:\n",
    "        top_1 += 1\n",
    "    if val_y[i] in top_rs[:3]:\n",
    "        top_3 += 1\n",
    "    if val_y[i] in top_rs:\n",
    "        top_10 += 1\n",
    "    i += 1"
   ]
  },
  {
   "cell_type": "code",
   "execution_count": 17,
   "id": "frequent-haiti",
   "metadata": {},
   "outputs": [
    {
     "name": "stdout",
     "output_type": "stream",
     "text": [
      "1009\n",
      "1704\n",
      "2686\n"
     ]
    }
   ],
   "source": [
    "print(top_1)\n",
    "print(top_3)\n",
    "print(top_10)"
   ]
  },
  {
   "cell_type": "code",
   "execution_count": 18,
   "id": "contemporary-raleigh",
   "metadata": {},
   "outputs": [],
   "source": [
    "import pickle"
   ]
  },
  {
   "cell_type": "code",
   "execution_count": 19,
   "id": "approximate-optimization",
   "metadata": {},
   "outputs": [],
   "source": [
    "with open('model_2.pkl', \"wb\") as f:\n",
    "    pickle.dump(model, f)"
   ]
  },
  {
   "cell_type": "code",
   "execution_count": 20,
   "id": "adopted-cisco",
   "metadata": {},
   "outputs": [],
   "source": [
    "# y_pred = model.predict(np.array(val_x))\n",
    "# cm = ConfusionMatrix(actual_vector=val_y, predict_vector=list(y_pred.astype('int')))\n",
    "# cm.save_html(f'{train_img_type}')"
   ]
  }
 ],
 "metadata": {
  "kernelspec": {
   "display_name": "Python 3",
   "language": "python",
   "name": "python3"
  },
  "language_info": {
   "codemirror_mode": {
    "name": "ipython",
    "version": 3
   },
   "file_extension": ".py",
   "mimetype": "text/x-python",
   "name": "python",
   "nbconvert_exporter": "python",
   "pygments_lexer": "ipython3",
   "version": "3.6.8"
  }
 },
 "nbformat": 4,
 "nbformat_minor": 5
}
