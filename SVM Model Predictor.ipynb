{
 "cells": [
  {
   "cell_type": "code",
   "execution_count": 1,
   "metadata": {},
   "outputs": [
    {
     "data": {
      "text/html": [
       "\n",
       "<style>\n",
       "    div#notebook-container    { width: 95%; }\n",
       "    div#menubar-container     { width: 65%; }\n",
       "    div#maintoolbar-container { width: 99%; }\n",
       "</style>\n"
      ],
      "text/plain": [
       "<IPython.core.display.HTML object>"
      ]
     },
     "metadata": {},
     "output_type": "display_data"
    }
   ],
   "source": [
    "from IPython.display import display, HTML\n",
    "display(HTML(data=\"\"\"\n",
    "<style>\n",
    "    div#notebook-container    { width: 95%; }\n",
    "    div#menubar-container     { width: 65%; }\n",
    "    div#maintoolbar-container { width: 99%; }\n",
    "</style>\n",
    "\"\"\"));\n",
    "\n",
    "\n",
    "import pandas as pd\n",
    "\n",
    "pd.set_option('display.max_columns', None)  \n",
    "pd.set_option('display.max_rows', None)  \n",
    "pd.set_option('display.width', 1000)"
   ]
  },
  {
   "cell_type": "code",
   "execution_count": 2,
   "metadata": {},
   "outputs": [],
   "source": [
    "import os\n",
    "from collections import Counter\n",
    "\n",
    "import numpy as np\n",
    "import cv2\n",
    "\n",
    "from matplotlib import pyplot as plt\n",
    "\n",
    "from tqdm import tqdm\n",
    "\n",
    "from sklearn.model_selection import train_test_split\n",
    "from sklearn import svm\n",
    "\n",
    "from pycm import *\n",
    "\n",
    "import pickle\n",
    "import snapml"
   ]
  },
  {
   "cell_type": "code",
   "execution_count": 3,
   "metadata": {},
   "outputs": [],
   "source": [
    "ksize = 31\n",
    "\n",
    "def read_img(path, normal_read):\n",
    "    if normal_read:\n",
    "        img = np.array(cv2.imread(path))\n",
    "\n",
    "        cond1 = np.logical_and((img[:,:,0]==255), (img[:,:,1]==255))\n",
    "        cond2 = np.logical_and(cond1, (img[:,:,2]==255))\n",
    "\n",
    "        target = np.zeros((img.shape[0], img.shape[1]))\n",
    "        target[:,:] = np.where(cond2, 0, 1)\n",
    "        \n",
    "        return target\n",
    "    else:\n",
    "        img = cv2.imread(path)\n",
    "        scale = 1\n",
    "        delta = 0\n",
    "        ddepth = cv2.CV_16S\n",
    "        grad_x = cv2.Sobel(img, ddepth, 1, 0, ksize=ksize, scale=scale, delta=delta, borderType=cv2.BORDER_DEFAULT)\n",
    "        grad_y = cv2.Sobel(img, ddepth, 0, 1, ksize=ksize, scale=scale, delta=delta, borderType=cv2.BORDER_DEFAULT)\n",
    "\n",
    "        rs = np.zeros((img.shape[0], img.shape[1], 2))\n",
    "        rs[:,:,0] = np.amax(grad_x,2)\n",
    "        rs[:,:,1] = np.amax(grad_y,2)\n",
    "        return np.amax(rs, 2)"
   ]
  },
  {
   "cell_type": "code",
   "execution_count": 4,
   "metadata": {},
   "outputs": [],
   "source": [
    "def flatten_data(img):\n",
    "    return [item for sublist in img for item in sublist]"
   ]
  },
  {
   "cell_type": "code",
   "execution_count": 5,
   "metadata": {},
   "outputs": [],
   "source": [
    "list_category = sorted(os.listdir('./dataset/'))\n",
    "category_mapping = {}\n",
    "for i in range(len(list_category)):\n",
    "    category_mapping[i] = list_category[i]"
   ]
  },
  {
   "cell_type": "code",
   "execution_count": 6,
   "metadata": {},
   "outputs": [
    {
     "name": "stderr",
     "output_type": "stream",
     "text": [
      "100%|██████████| 250/250 [02:14<00:00,  1.86it/s]\n"
     ]
    }
   ],
   "source": [
    "train_ratio = 0.7\n",
    "\n",
    "val_x_1_img = []\n",
    "val_x_2_img = []\n",
    "val_x_1 = []\n",
    "val_x_2 = []\n",
    "val_y = []\n",
    "\n",
    "for cat in tqdm(list_category):\n",
    "    list_file_by_cat = os.listdir(os.path.join('./dataset', cat))\n",
    "    train_length = int(len(list_file_by_cat) * train_ratio)\n",
    "    \n",
    "    for fn in list_file_by_cat[train_length:]:\n",
    "        img = read_img(os.path.join('./dataset/', cat, fn), True)\n",
    "        val_x_1.append(flatten_data(img))\n",
    "        val_x_1_img.append(img)\n",
    "        \n",
    "        img = read_img(os.path.join('./dataset/', cat, fn), False)\n",
    "        val_x_2.append(flatten_data(img))\n",
    "        val_x_2_img.append(img)\n",
    "        \n",
    "        val_y.append(cat)"
   ]
  },
  {
   "cell_type": "code",
   "execution_count": 7,
   "metadata": {},
   "outputs": [],
   "source": [
    "def get_model_predict(model, inp, val):\n",
    "    rs = model.decision_function(np.array(inp), n_jobs=10)[0]\n",
    "    top_rs = rs.argsort()[-10:][::-1]\n",
    "    \n",
    "    txt = ''\n",
    "    for cat in top_rs[:1]:\n",
    "        if val == category_mapping[cat]:\n",
    "            txt = f'[{val}]'\n",
    "        else:\n",
    "            txt = category_mapping[cat]\n",
    "    print(f'Top 1: {txt}')\n",
    "    \n",
    "    for cat in top_rs[1:3]:\n",
    "        if val == category_mapping[cat]:\n",
    "            txt += f', [{val}]'\n",
    "        else:\n",
    "            txt += f', {category_mapping[cat]}'\n",
    "    \n",
    "    print(f'Top 3: {txt}')\n",
    "    \n",
    "    for cat in top_rs[3:]:\n",
    "        if val == category_mapping[cat]:\n",
    "            txt += f', [{val}]'\n",
    "        else:\n",
    "            txt += f', {category_mapping[cat]}'\n",
    "    \n",
    "    print(f'Top 10: {txt}')"
   ]
  },
  {
   "cell_type": "code",
   "execution_count": 8,
   "metadata": {},
   "outputs": [],
   "source": [
    "with open('model_1.pkl', \"rb\") as f:\n",
    "    model_1 = pickle.load(f)\n",
    "with open('model_2.pkl', \"rb\") as f:\n",
    "    model_2 = pickle.load(f)"
   ]
  },
  {
   "cell_type": "code",
   "execution_count": 20,
   "metadata": {},
   "outputs": [
    {
     "data": {
      "text/plain": [
       "<matplotlib.image.AxesImage at 0x7fd9b942aa58>"
      ]
     },
     "execution_count": 20,
     "metadata": {},
     "output_type": "execute_result"
    },
    {
     "data": {
      "image/png": "[encoded data removed]",
      "text/plain": [
       "<Figure size 720x360 with 2 Axes>"
      ]
     },
     "metadata": {
      "needs_background": "light"
     },
     "output_type": "display_data"
    }
   ],
   "source": [
    "i = 95\n",
    "fig=plt.figure(figsize=(10,5))\n",
    "fig.suptitle(f'Input for class : {val_y[i]}')\n",
    "fig.add_subplot(1, 2, 1)\n",
    "plt.imshow(val_x_1_img[i])\n",
    "fig.add_subplot(1, 2, 2)\n",
    "plt.imshow(val_x_2_img[i])"
   ]
  },
  {
   "cell_type": "code",
   "execution_count": 21,
   "metadata": {},
   "outputs": [
    {
     "name": "stdout",
     "output_type": "stream",
     "text": [
      "====== Normal-Read Model Prediction: \n",
      "Top 1: bridge\n",
      "Top 3: bridge, [ant], eye\n",
      "Top 10: bridge, [ant], eye, camera, computer-mouse, satellite, cannon, crocodile, tiger, hot air balloon\n",
      "====== Sobel-Applied Model Prediction: \n",
      "Top 1: dog\n",
      "Top 3: dog, blimp, cow\n",
      "Top 10: dog, blimp, cow, seagull, rooster, pipe (for smoking), zebra, duck, scorpion, bus\n"
     ]
    }
   ],
   "source": [
    "print('====== Normal-Read Model Prediction: ')\n",
    "get_model_predict(model_1, [val_x_1[i]], val_y[i])\n",
    "print('====== Sobel-Applied Model Prediction: ')\n",
    "get_model_predict(model_2, [val_x_2[i]], val_y[i])"
   ]
  },
  {
   "cell_type": "code",
   "execution_count": 11,
   "metadata": {},
   "outputs": [],
   "source": [
    "# 5432\n",
    "# 99\n",
    "# 89"
   ]
  }
 ],
 "metadata": {
  "kernelspec": {
   "display_name": "Python 3",
   "language": "python",
   "name": "python3"
  },
  "language_info": {
   "codemirror_mode": {
    "name": "ipython",
    "version": 3
   },
   "file_extension": ".py",
   "mimetype": "text/x-python",
   "name": "python",
   "nbconvert_exporter": "python",
   "pygments_lexer": "ipython3",
   "version": "3.6.8"
  }
 },
 "nbformat": 4,
 "nbformat_minor": 4
}
