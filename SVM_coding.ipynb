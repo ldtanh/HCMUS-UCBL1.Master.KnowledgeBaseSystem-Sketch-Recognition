{
 "cells": [
  {
   "cell_type": "code",
   "execution_count": 1,
   "id": "third-performer",
   "metadata": {
    "scrolled": true
   },
   "outputs": [
    {
     "data": {
      "text/html": [
       "<style>.container { width:100% !important; }</style>"
      ],
      "text/plain": [
       "<IPython.core.display.HTML object>"
      ]
     },
     "metadata": {},
     "output_type": "display_data"
    }
   ],
   "source": [
    "from IPython.core.display import display, HTML\n",
    "display(HTML(\"<style>.container { width:100% !important; }</style>\"))"
   ]
  },
  {
   "cell_type": "markdown",
   "id": "advisory-monte",
   "metadata": {},
   "source": [
    "# Define"
   ]
  },
  {
   "cell_type": "code",
   "execution_count": 2,
   "id": "outer-council",
   "metadata": {},
   "outputs": [],
   "source": [
    "train_img_type = 'data_0_rotate'\n",
    "train_dataset_path = f'D:\\\\kb\\\\{train_img_type}'\n",
    "test_dataset_path = 'D:\\\\kb\\\\test_data'"
   ]
  },
  {
   "cell_type": "code",
   "execution_count": 3,
   "id": "republican-junior",
   "metadata": {},
   "outputs": [],
   "source": [
    "import os\n",
    "from collections import Counter\n",
    "\n",
    "import numpy as np\n",
    "from PIL import Image\n",
    "import cv2\n",
    "\n",
    "from matplotlib import pyplot as plt\n",
    "\n",
    "from tqdm import tqdm\n",
    "\n",
    "from sklearn.model_selection import train_test_split\n",
    "from sklearn import svm\n",
    "\n",
    "from yellowbrick.classifier import ClassificationReport"
   ]
  },
  {
   "cell_type": "code",
   "execution_count": 4,
   "id": "suspected-block",
   "metadata": {},
   "outputs": [],
   "source": [
    "# !pip freeze > requirements.txt"
   ]
  },
  {
   "cell_type": "markdown",
   "id": "vanilla-scale",
   "metadata": {},
   "source": [
    "# Dummy generate 0-rotated"
   ]
  },
  {
   "cell_type": "code",
   "execution_count": 5,
   "id": "israeli-narrative",
   "metadata": {},
   "outputs": [],
   "source": [
    "# from shutil import copyfile\n",
    "\n",
    "# list_category = os.listdir(test_dataset_path)\n",
    "\n",
    "# for cat in list_category:\n",
    "#     list_target_file = [\n",
    "#         file.replace('.png', '') \n",
    "#         for file in os.listdir(os.path.join(test_dataset_path, cat))\n",
    "#     ]\n",
    "#     os.mkdir(os.path.join(train_dataset_path, cat))\n",
    "#     for target_file in list_target_file:\n",
    "#         os.mkdir(os.path.join(train_dataset_path, cat, target_file))\n",
    "#         copyfile(os.path.join(test_dataset_path, cat, f'{target_file}.png'), os.path.join(train_dataset_path, cat, target_file, '0_degrees.png'))"
   ]
  },
  {
   "cell_type": "markdown",
   "id": "adolescent-saint",
   "metadata": {},
   "source": [
    "# Read data demo"
   ]
  },
  {
   "cell_type": "code",
   "execution_count": 6,
   "id": "divine-bride",
   "metadata": {},
   "outputs": [],
   "source": [
    "list_category = os.listdir(test_dataset_path)"
   ]
  },
  {
   "cell_type": "code",
   "execution_count": 7,
   "id": "changed-warrior",
   "metadata": {
    "scrolled": true
   },
   "outputs": [],
   "source": [
    "def compress_png(img):\n",
    "    cond1 = np.logical_and((img[:,:,0]==255), (img[:,:,1]==255))\n",
    "    cond2 = np.logical_and(cond1, (img[:,:,2]==255))\n",
    "\n",
    "    target = np.zeros((img.shape[0], img.shape[1]))\n",
    "    target[:,:] = np.where(cond2, 0, 1)\n",
    "    \n",
    "    return target\n",
    "\n",
    "def read_img(path):\n",
    "#     img = Image.open(path)\n",
    "    img = cv2.imread(path)\n",
    "    return compress_png(np.array(img))"
   ]
  },
  {
   "cell_type": "code",
   "execution_count": 8,
   "id": "anticipated-sydney",
   "metadata": {},
   "outputs": [
    {
     "data": {
      "text/plain": [
       "'D:\\\\kb\\\\test_data\\\\airplane\\\\1.png'"
      ]
     },
     "execution_count": 8,
     "metadata": {},
     "output_type": "execute_result"
    }
   ],
   "source": [
    "img_path = os.path.join(test_dataset_path, list_category[0], os.listdir(os.path.join(test_dataset_path, list_category[0]))[0])\n",
    "img_path"
   ]
  },
  {
   "cell_type": "code",
   "execution_count": 9,
   "id": "international-result",
   "metadata": {},
   "outputs": [],
   "source": [
    "img = read_img(img_path)"
   ]
  },
  {
   "cell_type": "code",
   "execution_count": 10,
   "id": "given-thomson",
   "metadata": {},
   "outputs": [
    {
     "data": {
      "text/plain": [
       "Counter({0.0: 63165, 1.0: 2371})"
      ]
     },
     "execution_count": 10,
     "metadata": {},
     "output_type": "execute_result"
    }
   ],
   "source": [
    "Counter([item for sublist in img for item in sublist])"
   ]
  },
  {
   "cell_type": "code",
   "execution_count": 11,
   "id": "above-jaguar",
   "metadata": {},
   "outputs": [
    {
     "data": {
      "text/plain": [
       "<matplotlib.image.AxesImage at 0x26129ca2f40>"
      ]
     },
     "execution_count": 11,
     "metadata": {},
     "output_type": "execute_result"
    },
    {
     "data": {
      "image/png": "[encoded data removed]",
      "text/plain": [
       "<Figure size 576x396 with 1 Axes>"
      ]
     },
     "metadata": {},
     "output_type": "display_data"
    }
   ],
   "source": [
    "plt.imshow(img)"
   ]
  },
  {
   "cell_type": "markdown",
   "id": "amended-glenn",
   "metadata": {},
   "source": [
    "# Now split data by (category & id) for faster looping"
   ]
  },
  {
   "cell_type": "code",
   "execution_count": 12,
   "id": "precise-viewer",
   "metadata": {},
   "outputs": [
    {
     "data": {
      "text/plain": [
       "[('mosquito', '10651'),\n",
       " ('bookshelf', '2042'),\n",
       " ('hot-dog', '8669'),\n",
       " ('basket', '1115'),\n",
       " ('rooster', '13903'),\n",
       " ('pen', '11964'),\n",
       " ('mushroom', '11073'),\n",
       " ('cactus', '3003'),\n",
       " ('wineglass', '19772'),\n",
       " ('head', '8116')]"
      ]
     },
     "execution_count": 12,
     "metadata": {},
     "output_type": "execute_result"
    }
   ],
   "source": [
    "item_list = []\n",
    "for cat in list_category:\n",
    "    list_file_by_cat = os.listdir(os.path.join(test_dataset_path, cat))\n",
    "    for fn in list_file_by_cat:\n",
    "        item_list.append((cat, fn.replace('.png', '')))\n",
    "\n",
    "from sklearn.utils import shuffle\n",
    "shuffled_list = shuffle(item_list, random_state=42)\n",
    "shuffled_list[:10]"
   ]
  },
  {
   "cell_type": "code",
   "execution_count": 13,
   "id": "remarkable-landing",
   "metadata": {},
   "outputs": [],
   "source": [
    "train_ratio = 0.95 # 80%\n",
    "train_length = int(len(shuffled_list) * train_ratio)"
   ]
  },
  {
   "cell_type": "markdown",
   "id": "cloudy-spring",
   "metadata": {},
   "source": [
    "Now reading data to train/test set"
   ]
  },
  {
   "cell_type": "code",
   "execution_count": 14,
   "id": "mechanical-march",
   "metadata": {},
   "outputs": [],
   "source": [
    "def flatten_data(img):\n",
    "    return [item for sublist in img for item in sublist]"
   ]
  },
  {
   "cell_type": "code",
   "execution_count": null,
   "id": "caroline-memorabilia",
   "metadata": {},
   "outputs": [],
   "source": [
    "train_x = []\n",
    "train_y = []\n",
    "\n",
    "for cat, fn in shuffled_list[:train_length]:\n",
    "    fn_dir = os.path.join(train_dataset_path, cat, fn)\n",
    "    for file in os.listdir(fn_dir):\n",
    "        train_x.append(flatten_data(read_img(os.path.join(fn_dir, file))))\n",
    "        train_y.append(cat)"
   ]
  },
  {
   "cell_type": "code",
   "execution_count": null,
   "id": "demanding-tours",
   "metadata": {},
   "outputs": [],
   "source": [
    "test_x = []\n",
    "test_y = []\n",
    "\n",
    "for cat, fn in shuffled_list[train_length:]:\n",
    "    val_x.append(flatten_data(read_img(os.path.join(test_dataset_path, cat, f'{fn}.png'))))\n",
    "    val_y.append(cat)"
   ]
  },
  {
   "cell_type": "markdown",
   "id": "brave-scale",
   "metadata": {},
   "source": [
    "# Train & Report"
   ]
  },
  {
   "cell_type": "code",
   "execution_count": null,
   "id": "several-breeding",
   "metadata": {},
   "outputs": [],
   "source": [
    "model = svm.LinearSVC()\n",
    "model.fit(train_x, train_y)\n",
    "y_pred = model.pred(test_x)"
   ]
  },
  {
   "cell_type": "code",
   "execution_count": null,
   "id": "lesbian-oliver",
   "metadata": {},
   "outputs": [],
   "source": [
    "from pycm import *"
   ]
  },
  {
   "cell_type": "code",
   "execution_count": null,
   "id": "stone-airplane",
   "metadata": {},
   "outputs": [],
   "source": [
    "cm = ConfusionMatrix(actual_vector=test_y, predict_vector=y_pred)\n",
    "cm.to_html(f'{train_img_type}.html')"
   ]
  }
 ],
 "metadata": {
  "kernelspec": {
   "display_name": "Python 3",
   "language": "python",
   "name": "python3"
  },
  "language_info": {
   "codemirror_mode": {
    "name": "ipython",
    "version": 3
   },
   "file_extension": ".py",
   "mimetype": "text/x-python",
   "name": "python",
   "nbconvert_exporter": "python",
   "pygments_lexer": "ipython3",
   "version": "3.9.2"
  }
 },
 "nbformat": 4,
 "nbformat_minor": 5
}
