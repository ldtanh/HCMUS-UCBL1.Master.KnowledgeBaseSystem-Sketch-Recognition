{
 "cells": [
  {
   "cell_type": "code",
   "execution_count": 1,
   "id": "innovative-times",
   "metadata": {},
   "outputs": [
    {
     "data": {
      "text/html": [
       "<style>.container { width:100% !important; }</style>"
      ],
      "text/plain": [
       "<IPython.core.display.HTML object>"
      ]
     },
     "metadata": {},
     "output_type": "display_data"
    }
   ],
   "source": [
    "from IPython.core.display import display, HTML\n",
    "display(HTML(\"<style>.container { width:100% !important; }</style>\"))"
   ]
  },
  {
   "cell_type": "markdown",
   "id": "external-ribbon",
   "metadata": {},
   "source": [
    "# Define"
   ]
  },
  {
   "cell_type": "code",
   "execution_count": 2,
   "id": "retired-reggae",
   "metadata": {},
   "outputs": [],
   "source": [
    "dataset_path = 'data'"
   ]
  },
  {
   "cell_type": "code",
   "execution_count": 3,
   "id": "amended-browse",
   "metadata": {},
   "outputs": [],
   "source": [
    "import os\n",
    "from collections import Counter\n",
    "\n",
    "import numpy as np\n",
    "from PIL import Image\n",
    "import cv2\n",
    "\n",
    "from matplotlib import pyplot as plt\n",
    "\n",
    "from tqdm import tqdm\n",
    "\n",
    "from sklearn.model_selection import train_test_split\n",
    "from sklearn import svm\n",
    "\n",
    "from yellowbrick.classifier import ClassificationReport"
   ]
  },
  {
   "cell_type": "code",
   "execution_count": 4,
   "id": "dramatic-lloyd",
   "metadata": {},
   "outputs": [],
   "source": [
    "!pip freeze > requirements.txt"
   ]
  },
  {
   "cell_type": "markdown",
   "id": "north-place",
   "metadata": {},
   "source": [
    "# Read data demo"
   ]
  },
  {
   "cell_type": "code",
   "execution_count": 5,
   "id": "thermal-eagle",
   "metadata": {},
   "outputs": [],
   "source": [
    "list_category = os.listdir(dataset_path)"
   ]
  },
  {
   "cell_type": "code",
   "execution_count": 6,
   "id": "invisible-plane",
   "metadata": {
    "scrolled": true
   },
   "outputs": [],
   "source": [
    "def compress_png(img):\n",
    "    rs = []\n",
    "    for i in range(img.shape[0]):\n",
    "        row = []\n",
    "        for j in range(img.shape[1]):\n",
    "            row.append(0 if ((img[i,j,0]==255) and (img[i,j,1]==255) and (img[i,j,2]==255)) else 1)\n",
    "        rs.append(row)\n",
    "    return rs\n",
    "\n",
    "def read_img(path):\n",
    "#     img = Image.open(path)\n",
    "    img = cv2.imread(path)\n",
    "    return compress_png(np.array(img))"
   ]
  },
  {
   "cell_type": "code",
   "execution_count": 7,
   "id": "worthy-baker",
   "metadata": {},
   "outputs": [
    {
     "data": {
      "text/plain": [
       "'data\\\\airplane\\\\1.png'"
      ]
     },
     "execution_count": 7,
     "metadata": {},
     "output_type": "execute_result"
    }
   ],
   "source": [
    "img_path = os.path.join(dataset_path, list_category[0], os.listdir(os.path.join(dataset_path, list_category[0]))[0])\n",
    "img_path"
   ]
  },
  {
   "cell_type": "code",
   "execution_count": 8,
   "id": "static-rings",
   "metadata": {},
   "outputs": [],
   "source": [
    "img = read_img(img_path)"
   ]
  },
  {
   "cell_type": "code",
   "execution_count": 9,
   "id": "animal-hormone",
   "metadata": {},
   "outputs": [
    {
     "data": {
      "text/plain": [
       "Counter({0: 63165, 1: 2371})"
      ]
     },
     "execution_count": 9,
     "metadata": {},
     "output_type": "execute_result"
    }
   ],
   "source": [
    "Counter([item for sublist in img for item in sublist])"
   ]
  },
  {
   "cell_type": "code",
   "execution_count": 10,
   "id": "durable-tenant",
   "metadata": {},
   "outputs": [
    {
     "data": {
      "text/plain": [
       "<matplotlib.image.AxesImage at 0x1da9260dd90>"
      ]
     },
     "execution_count": 10,
     "metadata": {},
     "output_type": "execute_result"
    },
    {
     "data": {
      "image/png": "[encoded data removed]",
      "text/plain": [
       "<Figure size 576x396 with 1 Axes>"
      ]
     },
     "metadata": {},
     "output_type": "display_data"
    }
   ],
   "source": [
    "plt.imshow(img)"
   ]
  },
  {
   "cell_type": "markdown",
   "id": "necessary-fountain",
   "metadata": {},
   "source": [
    "# Load full data"
   ]
  },
  {
   "cell_type": "code",
   "execution_count": 11,
   "id": "excellent-bulgarian",
   "metadata": {},
   "outputs": [],
   "source": [
    "train_category = list_category[:10]"
   ]
  },
  {
   "cell_type": "code",
   "execution_count": 12,
   "id": "cooperative-summer",
   "metadata": {},
   "outputs": [],
   "source": [
    "def flatten_data(img):\n",
    "    return [item for sublist in img for item in sublist]"
   ]
  },
  {
   "cell_type": "code",
   "execution_count": null,
   "id": "romance-bernard",
   "metadata": {},
   "outputs": [
    {
     "name": "stderr",
     "output_type": "stream",
     "text": [
      "\r",
      "  0%|                                                                                                                                                                                                                                 | 0/80 [00:00<?, ?it/s]"
     ]
    },
    {
     "name": "stdout",
     "output_type": "stream",
     "text": [
      "Reading airplane\n"
     ]
    },
    {
     "name": "stderr",
     "output_type": "stream",
     "text": [
      "100%|████████████████████████████████████████████████████████████████████████████████████████████████████████████████████████████████████████████████████████████████████████████████████████████████████████████████████████| 80/80 [00:34<00:00,  2.33it/s]\n",
      "  0%|                                                                                                                                                                                                                                 | 0/80 [00:00<?, ?it/s]"
     ]
    },
    {
     "name": "stdout",
     "output_type": "stream",
     "text": [
      "Reading alarm clock\n"
     ]
    },
    {
     "name": "stderr",
     "output_type": "stream",
     "text": [
      "100%|████████████████████████████████████████████████████████████████████████████████████████████████████████████████████████████████████████████████████████████████████████████████████████████████████████████████████████| 80/80 [00:37<00:00,  2.11it/s]\n",
      "  0%|                                                                                                                                                                                                                                 | 0/80 [00:00<?, ?it/s]"
     ]
    },
    {
     "name": "stdout",
     "output_type": "stream",
     "text": [
      "Reading angel\n"
     ]
    },
    {
     "name": "stderr",
     "output_type": "stream",
     "text": [
      "100%|████████████████████████████████████████████████████████████████████████████████████████████████████████████████████████████████████████████████████████████████████████████████████████████████████████████████████████| 80/80 [00:35<00:00,  2.25it/s]\n",
      "  0%|                                                                                                                                                                                                                                 | 0/80 [00:00<?, ?it/s]"
     ]
    },
    {
     "name": "stdout",
     "output_type": "stream",
     "text": [
      "Reading ant\n"
     ]
    },
    {
     "name": "stderr",
     "output_type": "stream",
     "text": [
      "100%|████████████████████████████████████████████████████████████████████████████████████████████████████████████████████████████████████████████████████████████████████████████████████████████████████████████████████████| 80/80 [00:37<00:00,  2.11it/s]\n",
      "  0%|                                                                                                                                                                                                                                 | 0/80 [00:00<?, ?it/s]"
     ]
    },
    {
     "name": "stdout",
     "output_type": "stream",
     "text": [
      "Reading apple\n"
     ]
    },
    {
     "name": "stderr",
     "output_type": "stream",
     "text": [
      "100%|████████████████████████████████████████████████████████████████████████████████████████████████████████████████████████████████████████████████████████████████████████████████████████████████████████████████████████| 80/80 [00:38<00:00,  2.10it/s]\n",
      "  0%|                                                                                                                                                                                                                                 | 0/80 [00:00<?, ?it/s]"
     ]
    },
    {
     "name": "stdout",
     "output_type": "stream",
     "text": [
      "Reading arm\n"
     ]
    },
    {
     "name": "stderr",
     "output_type": "stream",
     "text": [
      "100%|████████████████████████████████████████████████████████████████████████████████████████████████████████████████████████████████████████████████████████████████████████████████████████████████████████████████████████| 80/80 [00:37<00:00,  2.12it/s]\n",
      "  0%|                                                                                                                                                                                                                                 | 0/80 [00:00<?, ?it/s]"
     ]
    },
    {
     "name": "stdout",
     "output_type": "stream",
     "text": [
      "Reading armchair\n"
     ]
    },
    {
     "name": "stderr",
     "output_type": "stream",
     "text": [
      "100%|████████████████████████████████████████████████████████████████████████████████████████████████████████████████████████████████████████████████████████████████████████████████████████████████████████████████████████| 80/80 [00:37<00:00,  2.14it/s]\n",
      "  0%|                                                                                                                                                                                                                                 | 0/80 [00:00<?, ?it/s]"
     ]
    },
    {
     "name": "stdout",
     "output_type": "stream",
     "text": [
      "Reading ashtray\n"
     ]
    },
    {
     "name": "stderr",
     "output_type": "stream",
     "text": [
      "100%|████████████████████████████████████████████████████████████████████████████████████████████████████████████████████████████████████████████████████████████████████████████████████████████████████████████████████████| 80/80 [00:37<00:00,  2.16it/s]\n",
      "  0%|                                                                                                                                                                                                                                 | 0/80 [00:00<?, ?it/s]"
     ]
    },
    {
     "name": "stdout",
     "output_type": "stream",
     "text": [
      "Reading axe\n"
     ]
    },
    {
     "name": "stderr",
     "output_type": "stream",
     "text": [
      "100%|████████████████████████████████████████████████████████████████████████████████████████████████████████████████████████████████████████████████████████████████████████████████████████████████████████████████████████| 80/80 [00:36<00:00,  2.18it/s]\n",
      "  0%|                                                                                                                                                                                                                                 | 0/80 [00:00<?, ?it/s]"
     ]
    },
    {
     "name": "stdout",
     "output_type": "stream",
     "text": [
      "Reading backpack\n"
     ]
    },
    {
     "name": "stderr",
     "output_type": "stream",
     "text": [
      " 18%|█████████████████████████████████████▊                                                                                                                                                                                  | 14/80 [00:06<00:28,  2.35it/s]"
     ]
    }
   ],
   "source": [
    "img_x = []\n",
    "img_y = []\n",
    "\n",
    "for cat in tqdm(train_category):\n",
    "    base_path = os.path.join(dataset_path, cat)\n",
    "    for img_file in os.listdir(base_path):\n",
    "        img_path = os.path.join(base_path, img_file)\n",
    "        img_x.append(flatten_data(read_img(img_path)))\n",
    "        img_y.append(cat)"
   ]
  },
  {
   "cell_type": "code",
   "execution_count": null,
   "id": "compact-instrument",
   "metadata": {},
   "outputs": [],
   "source": [
    "X_train, X_test, y_train, y_test = train_test_split(img_x, img_y, test_size=0.33, random_state=42)"
   ]
  },
  {
   "cell_type": "markdown",
   "id": "sticky-malaysia",
   "metadata": {},
   "source": [
    "# Train & Report"
   ]
  },
  {
   "cell_type": "code",
   "execution_count": null,
   "id": "endangered-display",
   "metadata": {},
   "outputs": [],
   "source": [
    "model = svm.SVC()\n",
    "visualizer = ClassificationReport(model, classes=train_category, support=True)\n",
    "\n",
    "visualizer.fit(X_train, y_train)       \n",
    "visualizer.score(X_test, y_test)       \n",
    "visualizer.show()                      "
   ]
  },
  {
   "cell_type": "code",
   "execution_count": null,
   "id": "israeli-equilibrium",
   "metadata": {},
   "outputs": [],
   "source": [
    "model = svm.NuSVC()\n",
    "visualizer = ClassificationReport(model, classes=train_category, support=True)\n",
    "\n",
    "visualizer.fit(X_train, y_train)       \n",
    "visualizer.score(X_test, y_test)       \n",
    "visualizer.show()                  "
   ]
  },
  {
   "cell_type": "code",
   "execution_count": null,
   "id": "liked-accent",
   "metadata": {},
   "outputs": [],
   "source": [
    "model = svm.LinearSVC()\n",
    "visualizer = ClassificationReport(model, classes=train_category, support=True)\n",
    "\n",
    "visualizer.fit(X_train, y_train)       \n",
    "visualizer.score(X_test, y_test)       \n",
    "visualizer.show()                  "
   ]
  }
 ],
 "metadata": {
  "kernelspec": {
   "display_name": "Python 3",
   "language": "python",
   "name": "python3"
  },
  "language_info": {
   "codemirror_mode": {
    "name": "ipython",
    "version": 3
   },
   "file_extension": ".py",
   "mimetype": "text/x-python",
   "name": "python",
   "nbconvert_exporter": "python",
   "pygments_lexer": "ipython3",
   "version": "3.9.2"
  }
 },
 "nbformat": 4,
 "nbformat_minor": 5
}
